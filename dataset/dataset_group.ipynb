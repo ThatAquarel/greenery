{
 "cells": [
  {
   "cell_type": "code",
   "execution_count": 11,
   "metadata": {},
   "outputs": [],
   "source": [
    "import numpy as np\n",
    "import pandas as pd\n",
    "\n",
    "GEO = \"GEODGHR4\"\n",
    "GEO_LABEL = f\"{GEO}_LABEL\"\n",
    "NDVI = \"NDVI\"\n",
    "GEO_NDVI_LABEL = f\"{GEO}_{NDVI}_LABEL\"\n",
    "GEO_NDVI_LABELS = f\"{GEO}_{NDVI}_LABELS\""
   ]
  },
  {
   "cell_type": "code",
   "execution_count": 12,
   "metadata": {},
   "outputs": [],
   "source": [
    "mental = pd.read_csv(\"raw/mentalhealth_parsed.csv\")\n",
    "greenery = pd.read_csv(\"raw/greenery_parsed.csv\")\n",
    "\n",
    "geo = pd.read_csv(\"raw/geodghr4_associations.csv\")"
   ]
  },
  {
   "cell_type": "code",
   "execution_count": 13,
   "metadata": {},
   "outputs": [],
   "source": [
    "geo[NDVI] = np.nan\n",
    "geo = geo.dropna(subset=[GEO_NDVI_LABELS])\n",
    "\n",
    "geo_copy = geo.copy()\n",
    "for i, row in geo.iterrows():\n",
    "    geo_ndvi_labels = row[GEO_NDVI_LABELS]\n",
    "    geo_ndvi_labels = np.unique(geo_ndvi_labels.split(\";\"))\n",
    "\n",
    "    filtered_ndvi = greenery[greenery[GEO_NDVI_LABEL].isin(geo_ndvi_labels)]\n",
    "    mean_ndvi = filtered_ndvi[NDVI].mean()\n",
    "\n",
    "    geo_copy.loc[i, NDVI] = mean_ndvi\n",
    "\n",
    "geo = geo_copy.dropna(subset=[NDVI])"
   ]
  },
  {
   "cell_type": "code",
   "execution_count": 14,
   "metadata": {},
   "outputs": [],
   "source": [
    "merged_ndvi = pd.merge(mental, geo[[GEO, NDVI]], on=GEO)"
   ]
  },
  {
   "cell_type": "code",
   "execution_count": 15,
   "metadata": {},
   "outputs": [],
   "source": [
    "COLUMNS = [\n",
    "    \"GEO_PRV\", \n",
    "    \"GEODGHR4\",\n",
    "    \"NDVI\",\n",
    "    \"SDC_015\",\n",
    "    \"GEN_015\",\n",
    "    \"GEN_020\",\n",
    "    \"DHHGAGE\"\n",
    "]\n",
    "\n",
    "subsetted = merged_ndvi[COLUMNS]\n",
    "subsetted.to_csv(\"all_subsetted_group.csv\")"
   ]
  }
 ],
 "metadata": {
  "kernelspec": {
   "display_name": "Python 3",
   "language": "python",
   "name": "python3"
  },
  "language_info": {
   "codemirror_mode": {
    "name": "ipython",
    "version": 3
   },
   "file_extension": ".py",
   "mimetype": "text/x-python",
   "name": "python",
   "nbconvert_exporter": "python",
   "pygments_lexer": "ipython3",
   "version": "3.11.1"
  },
  "orig_nbformat": 4
 },
 "nbformat": 4,
 "nbformat_minor": 2
}
