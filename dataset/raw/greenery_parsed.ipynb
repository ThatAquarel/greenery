{
 "cells": [
  {
   "cell_type": "code",
   "execution_count": 1,
   "metadata": {},
   "outputs": [],
   "source": [
    "import pandas as pd\n",
    "\n",
    "raw = pd.read_csv(\"greenery.csv\")"
   ]
  },
  {
   "cell_type": "code",
   "execution_count": 2,
   "metadata": {},
   "outputs": [],
   "source": [
    "raw = raw.loc[raw[\"Urban greenness\"] == \"Average normalized difference vegetation index (NDVI)\"]\n",
    "raw = raw.loc[raw[\"REF_DATE\"] == 2018]\n",
    "raw = raw.dropna(subset=[\"VALUE\"])\n",
    "\n",
    "raw = raw.rename(columns={\"GEO\": \"GEODGHR4_NDVI_LABEL\", \"VALUE\": \"NDVI\"})\n",
    "raw.to_csv(\"greenery_parsed.csv\")"
   ]
  }
 ],
 "metadata": {
  "kernelspec": {
   "display_name": "Python 3",
   "language": "python",
   "name": "python3"
  },
  "language_info": {
   "codemirror_mode": {
    "name": "ipython",
    "version": 3
   },
   "file_extension": ".py",
   "mimetype": "text/x-python",
   "name": "python",
   "nbconvert_exporter": "python",
   "pygments_lexer": "ipython3",
   "version": "3.11.1"
  },
  "orig_nbformat": 4
 },
 "nbformat": 4,
 "nbformat_minor": 2
}
