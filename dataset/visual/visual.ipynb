{
 "cells": [
  {
   "cell_type": "code",
   "execution_count": 104,
   "metadata": {},
   "outputs": [],
   "source": [
    "import numpy as np\n",
    "import pandas as pd\n",
    "\n",
    "# cities = pd.read_csv(\"canadacities.csv\")\n",
    "greenery = pd.read_csv(\"../all_subsetted_group.csv\")\n",
    "\n",
    "geo = pd.read_csv(\"../raw/geodghr4_associations.csv\")\n",
    "\n",
    "GEO = \"GEODGHR4\"\n",
    "NDVI = \"NDVI\"\n",
    "GEO_NDVI_LABEL = f\"{GEO}_{NDVI}_LABEL\"\n",
    "GEO_NDVI_LABELS = f\"{GEO_NDVI_LABEL}S\"\n",
    "\n",
    "# LONG = \"LONGITUDE\"\n",
    "# LAT = \"LATITUDE\""
   ]
  },
  {
   "cell_type": "code",
   "execution_count": 105,
   "metadata": {},
   "outputs": [],
   "source": [
    "# geo[GEO_NDVI_LABEL] = np.nan\n",
    "# geo = geo.dropna(subset=[GEO_NDVI_LABELS])\n",
    "\n",
    "# geo_copy = geo.copy()\n",
    "# for i, row in geo.iterrows():\n",
    "#     geo_ndvi_labels = row[GEO_NDVI_LABELS]\n",
    "#     first_label = geo_ndvi_labels.split(\";\")[0]\n",
    "\n",
    "#     geo_copy.loc[i, GEO_NDVI_LABEL] = first_label\n",
    "\n",
    "# geo = geo_copy.dropna(subset=[GEO_NDVI_LABEL])"
   ]
  },
  {
   "cell_type": "code",
   "execution_count": 106,
   "metadata": {},
   "outputs": [],
   "source": [
    "# cities[GEO_NDVI_LABEL] = cities[[\"city\", \"province_name\"]].agg(', '.join, axis=1)\n",
    "# cities = cities.rename(columns={\"lat\": LAT, \"lng\": LONG})"
   ]
  },
  {
   "cell_type": "code",
   "execution_count": 107,
   "metadata": {},
   "outputs": [],
   "source": [
    "greenery = greenery.loc[greenery[\"GEN_015\"] <= 5]\n",
    "greenery = greenery.loc[greenery[\"SDC_015\"] <= 2]\n",
    "\n",
    "greenery = greenery.groupby([GEO, \"SDC_015\"]).mean()\n",
    "greenery = greenery.reset_index()"
   ]
  },
  {
   "cell_type": "code",
   "execution_count": 108,
   "metadata": {},
   "outputs": [],
   "source": [
    "merged_geo_ndvi_label = pd.merge(greenery, geo[[GEO, GEO_NDVI_LABEL]], on=GEO)"
   ]
  },
  {
   "cell_type": "code",
   "execution_count": 109,
   "metadata": {},
   "outputs": [],
   "source": [
    "# merged_long_lat = pd.merge(merged_geo_ndvi_label, cities[[GEO_NDVI_LABEL, LAT, LONG]], on=GEO_NDVI_LABEL)"
   ]
  },
  {
   "cell_type": "code",
   "execution_count": 110,
   "metadata": {},
   "outputs": [],
   "source": [
    "geo = merged_geo_ndvi_label[GEO]\n",
    "merged_geo_ndvi_label[GEO] = np.floor(geo / 1000) * 100 + geo % 100"
   ]
  },
  {
   "cell_type": "code",
   "execution_count": 111,
   "metadata": {},
   "outputs": [],
   "source": [
    "stats = merged_geo_ndvi_label\n",
    "\n",
    "g = stats[\"GEN_015\"]\n",
    "stats[\"GEN_015\"] = 1 - (g - g.min()) / (g.max() - g.min())\n",
    "\n",
    "n = stats[\"NDVI\"]\n",
    "stats[\"NDVI\"] = (n - n.min()) / (n.max() - n.min())"
   ]
  },
  {
   "cell_type": "code",
   "execution_count": 112,
   "metadata": {},
   "outputs": [],
   "source": [
    "N_BINS = 4\n",
    "bins = np.linspace(0, 1, N_BINS + 1)\n",
    "\n",
    "for i in range(N_BINS):\n",
    "    lower = bins[i]\n",
    "    upper = bins[i + 1]\n",
    "\n",
    "    inclusive = \"right\"\n",
    "    if i == 0:\n",
    "        inclusive = \"both\"\n",
    "\n",
    "    stats.loc[stats[\"NDVI\"].between(lower, upper, inclusive), \"NDVI_BINS\"] = i \n",
    "    stats.loc[stats[\"GEN_015\"].between(lower, upper, inclusive), \"GEN_015_BINS\"] = i\n",
    "\n",
    "stats[\"NDVI\"] = stats[\"NDVI_BINS\"]\n",
    "stats[\"GEN_015\"] = stats[\"GEN_015_BINS\"]"
   ]
  },
  {
   "cell_type": "code",
   "execution_count": 113,
   "metadata": {},
   "outputs": [],
   "source": [
    "COLUMNS = [\n",
    "    GEO,\n",
    "    \"GEO_PRV\",\n",
    "    \"NDVI\",\n",
    "    \"SDC_015\",\n",
    "    \"GEN_015\"\n",
    "]\n",
    "\n",
    "subsetted = stats[COLUMNS]\n",
    "subsetted.to_csv(\"visual.csv\", index=False)"
   ]
  }
 ],
 "metadata": {
  "kernelspec": {
   "display_name": "Python 3",
   "language": "python",
   "name": "python3"
  },
  "language_info": {
   "codemirror_mode": {
    "name": "ipython",
    "version": 3
   },
   "file_extension": ".py",
   "mimetype": "text/x-python",
   "name": "python",
   "nbconvert_exporter": "python",
   "pygments_lexer": "ipython3",
   "version": "3.11.1"
  },
  "orig_nbformat": 4
 },
 "nbformat": 4,
 "nbformat_minor": 2
}
