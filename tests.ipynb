{
 "cells": [
  {
   "cell_type": "code",
   "execution_count": 476,
   "metadata": {},
   "outputs": [],
   "source": [
    "import numpy as np\n",
    "import pandas as pd"
   ]
  },
  {
   "cell_type": "code",
   "execution_count": 477,
   "metadata": {},
   "outputs": [],
   "source": [
    "GEO = \"GEODGHR4\"\n",
    "GEN_015 = \"GEN_015\"\n",
    "SDC_015 = \"SDC_015\"\n",
    "NDVI = \"NDVI\""
   ]
  },
  {
   "cell_type": "code",
   "execution_count": 478,
   "metadata": {},
   "outputs": [],
   "source": [
    "data = pd.read_csv(\"C:\\\\Users\\\\xia_t\\\\Desktop\\\\Projects\\\\youreka\\\\dataset\\\\all_subsetted_group.csv\")\n",
    "\n",
    "# filter mental health and indigenous status\n",
    "data = data.loc[data[SDC_015] <= 2]\n",
    "data = data.loc[data[GEN_015] <= 5]\n",
    "data = data.loc[data[\"GEO_PRV\"].isin([10, 11, 12, 13, 24, 35])]"
   ]
  },
  {
   "cell_type": "code",
   "execution_count": 479,
   "metadata": {},
   "outputs": [],
   "source": [
    "# normalize NDVI into a range of [0, 1]\n",
    "n = data[NDVI]\n",
    "data[NDVI] = (n - n.min()) / (n.max() - n.min())"
   ]
  },
  {
   "cell_type": "code",
   "execution_count": 480,
   "metadata": {},
   "outputs": [],
   "source": [
    "# categorize NDVI into N_BINS intervals\n",
    "N_BINS = 4\n",
    "bins = np.linspace(0, 1, N_BINS + 1)\n",
    "\n",
    "for i in range(N_BINS):\n",
    "    lower = bins[i]\n",
    "    upper = bins[i + 1]\n",
    "\n",
    "    inclusive = \"right\"\n",
    "    if i == 0:\n",
    "        inclusive = \"both\"\n",
    "\n",
    "    data.loc[data[\"NDVI\"].between(lower, upper, inclusive), \"NDVI_BINS\"] = i\n",
    "\n",
    "data[\"NDVI\"] = data[\"NDVI_BINS\"]"
   ]
  },
  {
   "cell_type": "code",
   "execution_count": 481,
   "metadata": {},
   "outputs": [],
   "source": [
    "from scipy.stats.contingency import crosstab\n",
    "from scipy.stats import chi2_contingency\n",
    "from scipy.stats.contingency import association"
   ]
  },
  {
   "cell_type": "code",
   "execution_count": 482,
   "metadata": {},
   "outputs": [
    {
     "name": "stdout",
     "output_type": "stream",
     "text": [
      "Chi2ContingencyResult(statistic=6.2837995337995345, pvalue=0.1789327569130993, dof=4, expected_freq=array([[19.5, 24. , 16.5,  5.5,  1.5],\n",
      "       [19.5, 24. , 16.5,  5.5,  1.5]]))\n",
      "0.21655028601144427\n"
     ]
    }
   ],
   "source": [
    "# chi-squared test for SDC_015\n",
    "grouped = data.groupby([SDC_015])\n",
    "analysis_data = grouped.apply(lambda x: x.sample(67).reset_index(drop=True))\n",
    "\n",
    "contingency = crosstab(analysis_data[SDC_015], analysis_data[GEN_015])\n",
    "contingency_table = contingency.count\n",
    "\n",
    "print(chi2_contingency(contingency_table, correction=True))\n",
    "print(association(contingency_table, method=\"cramer\"))"
   ]
  },
  {
   "cell_type": "code",
   "execution_count": 483,
   "metadata": {},
   "outputs": [
    {
     "name": "stdout",
     "output_type": "stream",
     "text": [
      "Chi2ContingencyResult(statistic=11.276582313837215, pvalue=0.5053760745048572, dof=12, expected_freq=array([[ 4.40816327,  6.24489796,  5.14285714,  1.83673469,  0.36734694],\n",
      "       [ 9.55102041, 13.53061224, 11.14285714,  3.97959184,  0.79591837],\n",
      "       [ 6.6122449 ,  9.36734694,  7.71428571,  2.75510204,  0.55102041],\n",
      "       [ 3.42857143,  4.85714286,  4.        ,  1.42857143,  0.28571429]]))\n",
      "0.19584616962276516\n"
     ]
    }
   ],
   "source": [
    "# chi-squared test for NDVI\n",
    "grouped = data.groupby([SDC_015])\n",
    "analysis_data = grouped.apply(lambda x: x.sample(49).reset_index(drop=True))\n",
    "\n",
    "contingency = crosstab(analysis_data[NDVI], analysis_data[GEN_015])\n",
    "contingency_table = contingency.count\n",
    "\n",
    "print(chi2_contingency(contingency_table, correction=True))\n",
    "print(association(contingency_table, method=\"cramer\"))"
   ]
  },
  {
   "cell_type": "code",
   "execution_count": 484,
   "metadata": {},
   "outputs": [
    {
     "data": {
      "text/plain": [
       "Chi2ContingencyResult(statistic=27.75110887659907, pvalue=0.6339832495858966, dof=31, expected_freq=array([[[2.20408163, 3.12244898, 2.57142857, 0.91836735, 0.18367347],\n",
       "        [4.7755102 , 6.76530612, 5.57142857, 1.98979592, 0.39795918],\n",
       "        [3.30612245, 4.68367347, 3.85714286, 1.37755102, 0.2755102 ],\n",
       "        [1.71428571, 2.42857143, 2.        , 0.71428571, 0.14285714]],\n",
       "\n",
       "       [[2.20408163, 3.12244898, 2.57142857, 0.91836735, 0.18367347],\n",
       "        [4.7755102 , 6.76530612, 5.57142857, 1.98979592, 0.39795918],\n",
       "        [3.30612245, 4.68367347, 3.85714286, 1.37755102, 0.2755102 ],\n",
       "        [1.71428571, 2.42857143, 2.        , 0.71428571, 0.14285714]]]))"
      ]
     },
     "execution_count": 484,
     "metadata": {},
     "output_type": "execute_result"
    }
   ],
   "source": [
    "# chi-squared test for SDC_015 and NDVI interaction\n",
    "from scipy.stats.contingency import crosstab\n",
    "\n",
    "contingency = crosstab(analysis_data[SDC_015], analysis_data[NDVI], analysis_data[GEN_015])\n",
    "contingency_table = contingency.count\n",
    "\n",
    "from scipy.stats import chi2_contingency\n",
    "chi2_contingency(contingency_table, correction=True)"
   ]
  }
 ],
 "metadata": {
  "kernelspec": {
   "display_name": "Python 3",
   "language": "python",
   "name": "python3"
  },
  "language_info": {
   "codemirror_mode": {
    "name": "ipython",
    "version": 3
   },
   "file_extension": ".py",
   "mimetype": "text/x-python",
   "name": "python",
   "nbconvert_exporter": "python",
   "pygments_lexer": "ipython3",
   "version": "3.11.1"
  },
  "orig_nbformat": 4
 },
 "nbformat": 4,
 "nbformat_minor": 2
}
