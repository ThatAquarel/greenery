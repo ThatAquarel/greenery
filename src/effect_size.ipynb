{
 "cells": [
  {
   "cell_type": "code",
   "execution_count": 1,
   "metadata": {},
   "outputs": [],
   "source": [
    "import numpy as np\n",
    "import pandas as pd\n",
    "\n",
    "results = pd.read_csv(\"./tests.csv\")"
   ]
  },
  {
   "cell_type": "code",
   "execution_count": 2,
   "metadata": {},
   "outputs": [
    {
     "name": "stdout",
     "output_type": "stream",
     "text": [
      "(250, 14)\n"
     ]
    }
   ],
   "source": [
    "print(results.shape)"
   ]
  },
  {
   "cell_type": "code",
   "execution_count": 9,
   "metadata": {},
   "outputs": [
    {
     "name": "stdout",
     "output_type": "stream",
     "text": [
      "SDC_015_CRAMERV\n",
      "(131, 14)\n",
      "(119, 14)\n",
      "(0, 14)\n",
      "NDVI_CRAMERV\n",
      "(241, 14)\n",
      "(9, 14)\n",
      "(0, 14)\n"
     ]
    }
   ],
   "source": [
    "cols = [\n",
    "    \"SDC_015_CRAMERV\",\n",
    "    \"NDVI_CRAMERV\"\n",
    "]\n",
    "\n",
    "for col in cols:\n",
    "    print(col)\n",
    "    print(results.loc[results[col] <= 0.2].shape)\n",
    "    print(results.loc[results[col] > 0.2].loc[results[col] <= 0.6].shape)\n",
    "    print(results.loc[results[col] > 0.6].shape)"
   ]
  }
 ],
 "metadata": {
  "kernelspec": {
   "display_name": "Python 3",
   "language": "python",
   "name": "python3"
  },
  "language_info": {
   "codemirror_mode": {
    "name": "ipython",
    "version": 3
   },
   "file_extension": ".py",
   "mimetype": "text/x-python",
   "name": "python",
   "nbconvert_exporter": "python",
   "pygments_lexer": "ipython3",
   "version": "3.11.1"
  },
  "orig_nbformat": 4
 },
 "nbformat": 4,
 "nbformat_minor": 2
}
