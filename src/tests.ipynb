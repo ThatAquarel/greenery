{
 "cells": [
  {
   "cell_type": "code",
   "execution_count": 4,
   "metadata": {},
   "outputs": [],
   "source": [
    "import numpy as np\n",
    "import pandas as pd"
   ]
  },
  {
   "cell_type": "code",
   "execution_count": 5,
   "metadata": {},
   "outputs": [],
   "source": [
    "GEO = \"GEODGHR4\"\n",
    "GEN_015 = \"GEN_015\"\n",
    "SDC_015 = \"SDC_015\"\n",
    "NDVI = \"NDVI\""
   ]
  },
  {
   "cell_type": "code",
   "execution_count": 6,
   "metadata": {},
   "outputs": [],
   "source": [
    "# data = pd.read_csv(\"C:\\\\Users\\\\xia_t\\\\Desktop\\\\Projects\\\\youreka\\\\dataset\\\\all_subsetted_group.csv\")\n",
    "data = pd.read_csv(\"/home/tianyi/src/youreka/dataset/all_subsetted_group.csv\")\n",
    "\n",
    "# filter mental health and indigenous status\n",
    "data = data.loc[data[SDC_015] <= 2]\n",
    "data = data.loc[data[GEN_015] <= 5]"
   ]
  },
  {
   "cell_type": "code",
   "execution_count": 7,
   "metadata": {},
   "outputs": [],
   "source": [
    "# normalize NDVI into a range of [0, 1]\n",
    "def normalize(col, df):\n",
    "    column_data = df[col]\n",
    "    df[col] = (column_data - column_data.min()) / (column_data.max() - column_data.min())\n",
    "\n",
    "normalize(NDVI, data)\n",
    "normalize(GEN_015, data)\n",
    "normalize(SDC_015, data)"
   ]
  }
 ],
 "metadata": {
  "kernelspec": {
   "display_name": "Python 3",
   "language": "python",
   "name": "python3"
  },
  "language_info": {
   "codemirror_mode": {
    "name": "ipython",
    "version": 3
   },
   "file_extension": ".py",
   "mimetype": "text/x-python",
   "name": "python",
   "nbconvert_exporter": "python",
   "pygments_lexer": "ipython3",
   "version": "3.11.2"
  },
  "orig_nbformat": 4,
  "vscode": {
   "interpreter": {
    "hash": "ead1b95f633dc9c51826328e1846203f51a198c6fb5f2884a80417ba131d4e82"
   }
  }
 },
 "nbformat": 4,
 "nbformat_minor": 2
}
