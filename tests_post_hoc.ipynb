{
 "cells": [
  {
   "cell_type": "code",
   "execution_count": 122,
   "metadata": {},
   "outputs": [],
   "source": [
    "import numpy as np\n",
    "import pandas as pd"
   ]
  },
  {
   "cell_type": "code",
   "execution_count": 123,
   "metadata": {},
   "outputs": [],
   "source": [
    "GEO = \"GEODGHR4\"\n",
    "GEN_015 = \"GEN_015\"\n",
    "SDC_015 = \"SDC_015\"\n",
    "NDVI = \"NDVI\""
   ]
  },
  {
   "cell_type": "code",
   "execution_count": 124,
   "metadata": {},
   "outputs": [],
   "source": [
    "data = pd.read_csv(\"C:\\\\Users\\\\xia_t\\\\Desktop\\\\Projects\\\\youreka\\\\dataset\\\\all_subsetted_group.csv\")\n",
    "\n",
    "# filter mental health and indigenous status\n",
    "data = data.loc[data[SDC_015] <= 2]\n",
    "data = data.loc[data[GEN_015] <= 5]"
   ]
  },
  {
   "cell_type": "code",
   "execution_count": 125,
   "metadata": {},
   "outputs": [],
   "source": [
    "# normalize NDVI into a range of [0, 1]\n",
    "n = data[NDVI]\n",
    "data[NDVI] = (n - n.min()) / (n.max() - n.min())"
   ]
  },
  {
   "cell_type": "code",
   "execution_count": 126,
   "metadata": {},
   "outputs": [],
   "source": [
    "# categorize NDVI into N_BINS intervals\n",
    "N_BINS = 2\n",
    "bins = np.linspace(0, 1, N_BINS + 1)\n",
    "\n",
    "for i in range(N_BINS):\n",
    "    lower = bins[i]\n",
    "    upper = bins[i + 1]\n",
    "\n",
    "    inclusive = \"right\"\n",
    "    if i == 0:\n",
    "        inclusive = \"both\"\n",
    "\n",
    "    data.loc[data[\"NDVI\"].between(lower, upper, inclusive), \"NDVI_BINS\"] = i \n",
    "    data.loc[data[\"GEN_015\"].between(lower, upper, inclusive), \"GEN_015_BINS\"] = i\n",
    "\n",
    "data[\"NDVI\"] = data[\"NDVI_BINS\"]"
   ]
  },
  {
   "cell_type": "code",
   "execution_count": 128,
   "metadata": {},
   "outputs": [],
   "source": [
    "# sample data (pass)\n",
    "grouped = data.groupby(SDC_015)\n",
    "analysis_data = grouped.apply(lambda x: x.sample(250).reset_index(drop=True))"
   ]
  },
  {
   "cell_type": "code",
   "execution_count": 129,
   "metadata": {},
   "outputs": [],
   "source": [
    "# build contingency table\n",
    "from scipy.stats.contingency import crosstab\n",
    "\n",
    "contingency = crosstab(analysis_data[SDC_015], analysis_data[NDVI], analysis_data[GEN_015])\n",
    "\n",
    "x, y, z, = contingency.elements\n",
    "contingency_table = contingency.count"
   ]
  },
  {
   "cell_type": "code",
   "execution_count": 130,
   "metadata": {},
   "outputs": [
    {
     "data": {
      "text/plain": [
       "Chi2ContingencyResult(statistic=44.758954556978466, pvalue=2.295579050685168e-05, dof=13, expected_freq=array([[[28.024, 45.878, 28.25 ,  9.04 ,  1.808],\n",
       "        [33.976, 55.622, 34.25 , 10.96 ,  2.192]],\n",
       "\n",
       "       [[28.024, 45.878, 28.25 ,  9.04 ,  1.808],\n",
       "        [33.976, 55.622, 34.25 , 10.96 ,  2.192]]]))"
      ]
     },
     "execution_count": 130,
     "metadata": {},
     "output_type": "execute_result"
    }
   ],
   "source": [
    "# chi-squared test\n",
    "from scipy.stats import chi2_contingency\n",
    "\n",
    "chi2_contingency(contingency_table, correction=True)"
   ]
  },
  {
   "cell_type": "code",
   "execution_count": 116,
   "metadata": {},
   "outputs": [
    {
     "name": "stdout",
     "output_type": "stream",
     "text": [
      "Chi2 result for pair ((0, 2), (1, 2)): 4.449523101697013, p-value: 0.3485747639609013\n",
      "Chi2 result for pair ((0, 2), (1, 3)): 1.3038682864450128, p-value: 0.8607188783971189\n",
      "Chi2 result for pair ((1, 2), (1, 3)): 0.9406016688625382, p-value: 0.9186649489556648\n"
     ]
    }
   ],
   "source": [
    "# chi-squared post-hoc test\n",
    "from itertools import product, combinations\n",
    "\n",
    "SDC_015_values = np.arange(2)\n",
    "NDVI_values = np.arange(2)\n",
    "\n",
    "groups = product(SDC_015_values, NDVI_values)\n",
    "group_comparison_combinations = combinations(groups, 2)\n",
    "\n",
    "for comparison_combination in group_comparison_combinations:\n",
    "    t = np.transpose(comparison_combination)\n",
    "    t = tuple(map(tuple, t))\n",
    "\n",
    "    comparison_contingency_table = contingency_table[t]\n",
    "    if comparison_contingency_table.min() < 1:\n",
    "        continue\n",
    "\n",
    "    chi2, p, dof, ex = chi2_contingency(comparison_contingency_table, correction=False)\n",
    "    print(f\"Chi2 result for pair {comparison_combination}: {chi2}, p-value: {p}\")"
   ]
  },
  {
   "cell_type": "code",
   "execution_count": 117,
   "metadata": {},
   "outputs": [
    {
     "data": {
      "text/plain": [
       "278"
      ]
     },
     "execution_count": 117,
     "metadata": {},
     "output_type": "execute_result"
    }
   ],
   "source": [
    "contingency_table.sum()"
   ]
  }
 ],
 "metadata": {
  "kernelspec": {
   "display_name": "Python 3",
   "language": "python",
   "name": "python3"
  },
  "language_info": {
   "codemirror_mode": {
    "name": "ipython",
    "version": 3
   },
   "file_extension": ".py",
   "mimetype": "text/x-python",
   "name": "python",
   "nbconvert_exporter": "python",
   "pygments_lexer": "ipython3",
   "version": "3.11.1"
  },
  "orig_nbformat": 4
 },
 "nbformat": 4,
 "nbformat_minor": 2
}
